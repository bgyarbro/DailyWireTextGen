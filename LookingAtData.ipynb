{
 "cells": [
  {
   "cell_type": "code",
   "execution_count": 3,
   "metadata": {},
   "outputs": [],
   "source": [
    "import pickle"
   ]
  },
  {
   "cell_type": "code",
   "execution_count": 4,
   "metadata": {},
   "outputs": [],
   "source": [
    "with open ('BenShapiroAllArticlesText', 'rb') as fp:\n",
    "    data = pickle.load(fp)"
   ]
  },
  {
   "cell_type": "code",
   "execution_count": 13,
   "metadata": {},
   "outputs": [
    {
     "data": {
      "text/plain": [
       "['On Saturday night, a Palestinian terrorist joined the latest murder spree against Jews in Israel by stabbing to death two Israelis to death, stabbing and wounding one of the men’s wife, then shooting and wounding the couple’s two-year-old daughter in Jerusalem. The Israeli police shot and killed the murderer. The same night, a Palestinian stabbed an Israeli teen in Jerusalem as well. Israeli police shot and killed that would-be murderer, too.',\n",
       " 'Naturally, the Palestinian Authority came out and condemned the Israeli police, labeling the terrorists “young men.” PA spokesman Ihab Bseiso explained, “The only solution is the end of the Israeli occupation of our occupied Palestinian land and the establishment of our independent state on the 1967 borders with Jerusalem as its capital.”',\n",
       " 'The incident coordinated beautifully with other Palestinian rock-throwing attacks throughout Jerusalem, and followed Palestinian Authority dictator Mahmoud Abbas’ announcement last week that he no longer felt bound to any agreement signed with the Israelis. That announcement effectively placed the PA in a state of war with Israel.',\n",
       " 'The Palestinians can do whatever they want so long as President Obama retains power, thanks to his default position: when in doubt, tacitly side with successful and would-be Jew-murderers.',\n",
       " '',\n",
       " 'The day after Abbas announcement, the Fatah wing of the Palestinian Authority – the supposed “moderate” Palestinian Authority rulers of large swaths of Judea and Samaria, led by Mahmoud Abbas and endorsed by President Obama – claimed responsibility for the brutal slaying of a young civilian Israeli couple who committed the crime of driving while Jewish in their homeland. Eitam Henkin, a doctoral student at Tel-Aviv University, and his wife Na’ama, were slain in front of four of their children. The murders were just the latest in a heavy spate of slaying by Palestinian terrorists over the summer, celebrated by both the PA and Hamas.',\n",
       " 'No wonder the Palestinian Jew-haters are on the move. As reported last week, President Obama apparently rejected Senate Minority Leader Harry Reid’s (D-NV) desperate request to include a provision negating any unilateral Palestinian declaration of statehood at the United Nations in the Iran deal rollout. The Palestinians can do whatever they want so long as President Obama retains power, thanks to his default position: when in doubt, tacitly side with successful and would-be Jew-murderers.',\n",
       " 'That trend continued after Saturday’s shooting of a toddler and stabbings to death of Jews in Jerusalem: the Obama administration promptly blamed both sides. Here was the pathetic, morally disgusting statement from the anti-Semitic Obama State Department:',\n",
       " 'The United States strongly condemns all acts of violence, including the tragic stabbing in the Old City of Jerusalem today that left two victims dead and two injured. We call for all perpetrators of violence to be swiftly brought to justice.',\n",
       " 'So far, so good. But the Obama administration then blamed Israel for the violence:',\n",
       " 'We are very concerned about mounting tensions in the West Bank and Jerusalem, including the Haram al Sharif/Temple Mount, and call on all sides to take affirmatives steps to restore calm and avoid escalating the situation.',\n",
       " 'Escalating the situation? By shooting people who kill Jews? As for the “mounting tensions” surrounding the holiest site in Judaism, the Temple Mount, that would be a reference to Jews who want to visit the Temple Mount being allowed to do so, and the Palestinian Authority president Mahmoud Abbas pushing religious war in response:',\n",
       " 'Al-Aqsa is ours and so is the Church of the Holy Sepulchre. They have no right to desecrate them with their filthy feet. We won’t allow them to do so and we will do whatever we can to defend Jerusalem.',\n",
       " 'But “cycle of violence” and all that.',\n",
       " 'The Obama administration has been a repository for Jew-hatred for years. No wonder they’re happy to lay blame for dead Jews on live Jews rather than on the Jew-hating pieces of human filth that murdered them, and the leadership that inspired those murderers. ']"
      ]
     },
     "execution_count": 13,
     "metadata": {},
     "output_type": "execute_result"
    }
   ],
   "source": [
    "data[-1]"
   ]
  },
  {
   "cell_type": "code",
   "execution_count": 14,
   "metadata": {},
   "outputs": [
    {
     "data": {
      "text/plain": [
       "2955"
      ]
     },
     "execution_count": 14,
     "metadata": {},
     "output_type": "execute_result"
    }
   ],
   "source": [
    "len(data)"
   ]
  },
  {
   "cell_type": "code",
   "execution_count": null,
   "metadata": {},
   "outputs": [],
   "source": []
  }
 ],
 "metadata": {
  "kernelspec": {
   "display_name": "Python 3",
   "language": "python",
   "name": "python3"
  },
  "language_info": {
   "codemirror_mode": {
    "name": "ipython",
    "version": 3
   },
   "file_extension": ".py",
   "mimetype": "text/x-python",
   "name": "python",
   "nbconvert_exporter": "python",
   "pygments_lexer": "ipython3",
   "version": "3.6.5"
  }
 },
 "nbformat": 4,
 "nbformat_minor": 2
}
